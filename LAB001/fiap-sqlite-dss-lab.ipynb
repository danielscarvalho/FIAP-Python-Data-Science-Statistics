{
 "cells": [
  {
   "cell_type": "markdown",
   "metadata": {},
   "source": [
    "# FIAP\n",
    "## Engenharia de Software\n",
    "### Data Science and Statistical Computing"
   ]
  },
  {
   "cell_type": "markdown",
   "metadata": {},
   "source": [
    "SQLite LAB - ETL - Extraction Transformation and Load\n",
    "\n",
    "Install:\n",
    "\n",
    "pip3 install sqlite3\n",
    "\n",
    "or\n",
    "\n",
    "conda install sqlite3"
   ]
  },
  {
   "cell_type": "code",
   "execution_count": null,
   "metadata": {},
   "outputs": [],
   "source": [
    "!wget https://github.com/danielscarvalho/data/blob/master/Clients.csv?raw=true -O Clients.csv"
   ]
  },
  {
   "cell_type": "code",
   "execution_count": 1,
   "metadata": {},
   "outputs": [
    {
     "name": "stdout",
     "output_type": "stream",
     "text": [
      "-rw-rw-r-- 1 fito fito 676762 mai  9 10:51 bitcoins_trades.csv\n",
      "-rw-rw-r-- 1 fito fito 185213 jun  6 10:32 Cities1.csv\n",
      "-rw-rw-r-- 1 fito fito  74239 set 26 11:15 Clients.csv\n",
      "-rw-rw-r-- 1 fito fito  94283 ago 26 09:50 diabetes.csv\n",
      "-rw-rw-r-- 1 fito fito 554679 abr  8 08:25 obitos-2023.csv\n",
      "-rw-rw-r-- 1 fito fito  60302 mar 18  2024 titanic.csv\n"
     ]
    }
   ],
   "source": [
    "!ls -l *.csv"
   ]
  },
  {
   "cell_type": "code",
   "execution_count": 2,
   "metadata": {},
   "outputs": [
    {
     "name": "stdout",
     "output_type": "stream",
     "text": [
      "Seq,Value,Cost,Type,Category,Reference,Sub,Dec,Ticket\n",
      "1,0.993190858335105,704.151859720177,A,Gold,399.122282809757,-70,Gamma,1432\n",
      "2,0.555051310059166,776.584086430537,B,Silver,828.930698378043,74,Gamma,1433\n",
      "3,0.0890770883227318,909.221706181418,B,Silver,987.120310195753,-55,Gamma,1434\n",
      "4,0.109345778842911,57.2442840655498,B,Silver,980.133134243492,87,Gamma,1435\n",
      "5,0.290697424748017,898.92160632871,B,Silver,190.085343055745,-39,Gamma,1436\n",
      "6,0.591107732196357,126.598489368848,B,Silver,651.264660866354,83,Gamma,1437\n",
      "7,0.985322702594319,588.142563005177,C,Silver,252.743863713731,-43,Gamma,1438\n",
      "8,0.331527780422579,832.966968426264,C,Silver,142.750118211529,50,Gamma,1439\n",
      "9,0.311497095693109,193.32694327513,C,Silver,480.384255226109,-62,Gamma,1440\n"
     ]
    }
   ],
   "source": [
    "!head Clients.csv"
   ]
  },
  {
   "cell_type": "markdown",
   "metadata": {},
   "source": [
    "Tipo de dados do SQLite e outros SGBDs:\n",
    "\n",
    "https://www.tutorialspoint.com/sqlite/sqlite_data_types.htm\n",
    "\n"
   ]
  },
  {
   "cell_type": "code",
   "execution_count": 16,
   "metadata": {},
   "outputs": [],
   "source": [
    "CT_CLIENTS_SQL = \"\"\"\n",
    "create table clients (\n",
    "seq integer not null primary key,\n",
    "value float,\n",
    "cost float,\n",
    "type text,\n",
    "category text,\n",
    "reference integer,\n",
    "sub integer,\n",
    "dec text,\n",
    "ticket interger\n",
    ")\n",
    "\"\"\""
   ]
  },
  {
   "cell_type": "code",
   "execution_count": 4,
   "metadata": {},
   "outputs": [],
   "source": [
    "import sqlite3\n",
    "\n",
    "con = sqlite3.connect(\"fiap2.db\")"
   ]
  },
  {
   "cell_type": "code",
   "execution_count": 5,
   "metadata": {},
   "outputs": [],
   "source": [
    "cursor = con.cursor()"
   ]
  },
  {
   "cell_type": "code",
   "execution_count": 7,
   "metadata": {},
   "outputs": [],
   "source": [
    "result_set = cursor.execute(\"select date(), time(), sqlite_version()\")"
   ]
  },
  {
   "cell_type": "code",
   "execution_count": 8,
   "metadata": {},
   "outputs": [
    {
     "name": "stdout",
     "output_type": "stream",
     "text": [
      "('2024-09-27', '01:15:04', '3.41.2')\n"
     ]
    }
   ],
   "source": [
    "for record in result_set:\n",
    "    print(record)"
   ]
  },
  {
   "cell_type": "code",
   "execution_count": 17,
   "metadata": {},
   "outputs": [
    {
     "data": {
      "text/plain": [
       "<sqlite3.Cursor at 0x7dc9e933b8c0>"
      ]
     },
     "execution_count": 17,
     "metadata": {},
     "output_type": "execute_result"
    }
   ],
   "source": [
    "cursor.execute(\"drop table clients\")"
   ]
  },
  {
   "cell_type": "code",
   "execution_count": 18,
   "metadata": {},
   "outputs": [],
   "source": [
    "result_set = cursor.execute(CT_CLIENTS_SQL)"
   ]
  },
  {
   "cell_type": "code",
   "execution_count": 19,
   "metadata": {},
   "outputs": [],
   "source": [
    "for record in result_set:\n",
    "    print(record)"
   ]
  },
  {
   "cell_type": "code",
   "execution_count": 20,
   "metadata": {},
   "outputs": [
    {
     "name": "stdout",
     "output_type": "stream",
     "text": [
      "['Seq', 'Value', 'Cost', 'Type', 'Category', 'Reference', 'Sub', 'Dec', 'Ticket\\n']\n"
     ]
    }
   ],
   "source": [
    "file = open(\"Clients.csv\",\"r\")\n",
    "\n",
    "clients_head = file.readline()\n",
    "\n",
    "print(clients_head.split(\",\"))"
   ]
  },
  {
   "cell_type": "markdown",
   "metadata": {},
   "source": [
    "Data sample, first and second lines of the clients.csv:\n",
    "\n",
    "```csv\n",
    "Seq,Value,Cost,Type,Category,Reference,Sub,Dec,Ticket\n",
    "1,0.993190858335105,704.151859720177,A,Gold,399.122282809757,-70,Gamma,1432\n",
    "```"
   ]
  },
  {
   "cell_type": "code",
   "execution_count": 21,
   "metadata": {},
   "outputs": [],
   "source": [
    "for line in file:\n",
    "    \n",
    "    try:\n",
    "\n",
    "        columns = line.split(\",\")\n",
    "\n",
    "        seq = int(columns[0])\n",
    "        value = float(columns[1])\n",
    "        cost = float(columns[2])\n",
    "        type = columns[3]\n",
    "        category = columns[4]\n",
    "        reference = float(columns[5])\n",
    "        sub = int(columns[6])\n",
    "        dec = columns[7]\n",
    "        ticket = int(columns[8])\n",
    "\n",
    "        INSERT_SQL = f\"insert into clients values({seq},{value},{cost},'{type}','{category}',{reference},{sub},'{dec}',{ticket})\"\n",
    "        \n",
    "        #print(INSERT_SQL)        \n",
    "    \n",
    "        cursor.execute(INSERT_SQL)\n",
    "\n",
    "    except Exception as err:\n",
    "        print(\"Ops! - \", err, \" - \", INSERT_SQL)"
   ]
  },
  {
   "cell_type": "code",
   "execution_count": 22,
   "metadata": {},
   "outputs": [
    {
     "name": "stdout",
     "output_type": "stream",
     "text": [
      "(1000,)\n"
     ]
    }
   ],
   "source": [
    "result_set = cursor.execute(\"select count(1) qtd from clients\")\n",
    "\n",
    "for record in result_set:\n",
    "    print(record)"
   ]
  },
  {
   "cell_type": "code",
   "execution_count": 23,
   "metadata": {},
   "outputs": [
    {
     "name": "stdout",
     "output_type": "stream",
     "text": [
      "(1000, 0.0432759565581071, 920.506722271134, 'B', 'Prata', 687.753336916526, 49, 'Alpha', 1600)\n"
     ]
    }
   ],
   "source": [
    "result_set = cursor.execute(\"select * from clients where seq == (select max(seq) from clients)\")\n",
    "\n",
    "for record in result_set:\n",
    "    print(record)"
   ]
  },
  {
   "cell_type": "code",
   "execution_count": 24,
   "metadata": {},
   "outputs": [
    {
     "name": "stdout",
     "output_type": "stream",
     "text": [
      "(368, 0.154303628511627, 776.115530755998, 'E', 'Prata', 996.557952125095, -6, 'Beta', 1799)\n"
     ]
    }
   ],
   "source": [
    "result_set = cursor.execute(\"select * from clients where reference == (select max(reference) from clients)\")\n",
    "\n",
    "for record in result_set:\n",
    "    print(record)"
   ]
  },
  {
   "cell_type": "code",
   "execution_count": 25,
   "metadata": {},
   "outputs": [
    {
     "name": "stdout",
     "output_type": "stream",
     "text": [
      "('Gold', 16, 5882.483505698788)\n",
      "('Prata', 776, 391068.11619044293)\n",
      "('Silver', 208, 108943.19602267281)\n"
     ]
    }
   ],
   "source": [
    "result_set = cursor.execute(\"select category, count(1) qtd, sum(reference) from clients group by category\")\n",
    "\n",
    "for record in result_set:\n",
    "    print(record)"
   ]
  },
  {
   "cell_type": "code",
   "execution_count": 26,
   "metadata": {},
   "outputs": [],
   "source": [
    "import pandas as pd"
   ]
  },
  {
   "cell_type": "code",
   "execution_count": 27,
   "metadata": {},
   "outputs": [
    {
     "data": {
      "text/html": [
       "<div>\n",
       "<style scoped>\n",
       "    .dataframe tbody tr th:only-of-type {\n",
       "        vertical-align: middle;\n",
       "    }\n",
       "\n",
       "    .dataframe tbody tr th {\n",
       "        vertical-align: top;\n",
       "    }\n",
       "\n",
       "    .dataframe thead th {\n",
       "        text-align: right;\n",
       "    }\n",
       "</style>\n",
       "<table border=\"1\" class=\"dataframe\">\n",
       "  <thead>\n",
       "    <tr style=\"text-align: right;\">\n",
       "      <th></th>\n",
       "      <th>sqlite_version()</th>\n",
       "      <th>date()</th>\n",
       "      <th>time()</th>\n",
       "    </tr>\n",
       "  </thead>\n",
       "  <tbody>\n",
       "    <tr>\n",
       "      <th>0</th>\n",
       "      <td>3.41.2</td>\n",
       "      <td>2024-09-27</td>\n",
       "      <td>01:28:44</td>\n",
       "    </tr>\n",
       "  </tbody>\n",
       "</table>\n",
       "</div>"
      ],
      "text/plain": [
       "  sqlite_version()      date()    time()\n",
       "0           3.41.2  2024-09-27  01:28:44"
      ]
     },
     "execution_count": 27,
     "metadata": {},
     "output_type": "execute_result"
    }
   ],
   "source": [
    "pd.read_sql_query(\"select sqlite_version(), date(), time()\", con)"
   ]
  },
  {
   "cell_type": "code",
   "execution_count": 28,
   "metadata": {},
   "outputs": [
    {
     "data": {
      "text/html": [
       "<div>\n",
       "<style scoped>\n",
       "    .dataframe tbody tr th:only-of-type {\n",
       "        vertical-align: middle;\n",
       "    }\n",
       "\n",
       "    .dataframe tbody tr th {\n",
       "        vertical-align: top;\n",
       "    }\n",
       "\n",
       "    .dataframe thead th {\n",
       "        text-align: right;\n",
       "    }\n",
       "</style>\n",
       "<table border=\"1\" class=\"dataframe\">\n",
       "  <thead>\n",
       "    <tr style=\"text-align: right;\">\n",
       "      <th></th>\n",
       "      <th>seq</th>\n",
       "      <th>value</th>\n",
       "      <th>cost</th>\n",
       "      <th>type</th>\n",
       "      <th>category</th>\n",
       "      <th>reference</th>\n",
       "      <th>sub</th>\n",
       "      <th>dec</th>\n",
       "      <th>ticket</th>\n",
       "    </tr>\n",
       "  </thead>\n",
       "  <tbody>\n",
       "    <tr>\n",
       "      <th>0</th>\n",
       "      <td>1</td>\n",
       "      <td>0.993191</td>\n",
       "      <td>704.15186</td>\n",
       "      <td>A</td>\n",
       "      <td>Gold</td>\n",
       "      <td>399.122283</td>\n",
       "      <td>-70</td>\n",
       "      <td>Gamma</td>\n",
       "      <td>1432</td>\n",
       "    </tr>\n",
       "  </tbody>\n",
       "</table>\n",
       "</div>"
      ],
      "text/plain": [
       "   seq     value       cost type category   reference  sub    dec  ticket\n",
       "0    1  0.993191  704.15186    A     Gold  399.122283  -70  Gamma    1432"
      ]
     },
     "execution_count": 28,
     "metadata": {},
     "output_type": "execute_result"
    }
   ],
   "source": [
    "pd.read_sql_query(\"select * from clients where type = 'A' and dec == 'Gamma'\", con)"
   ]
  },
  {
   "cell_type": "markdown",
   "metadata": {},
   "source": [
    "To learn more about Pandas with DB: \n",
    "\n",
    "https://pandas.pydata.org/pandas-docs/version/0.15.0/generated/pandas.read_sql.html <br>\n",
    "https://pandas.pydata.org/docs/reference/api/pandas.read_sql.html <br>\n",
    "https://pandas.pydata.org/docs/reference/api/pandas.read_sql_query.html <br>"
   ]
  },
  {
   "cell_type": "code",
   "execution_count": 107,
   "metadata": {},
   "outputs": [],
   "source": [
    "file.close()\n",
    "con.close()"
   ]
  },
  {
   "cell_type": "code",
   "execution_count": null,
   "metadata": {},
   "outputs": [],
   "source": [
    "# cursor.execute(\"delete from clients\")\n",
    "print(_)"
   ]
  },
  {
   "cell_type": "markdown",
   "metadata": {},
   "source": []
  }
 ],
 "metadata": {
  "kernelspec": {
   "display_name": "base",
   "language": "python",
   "name": "python3"
  },
  "language_info": {
   "codemirror_mode": {
    "name": "ipython",
    "version": 3
   },
   "file_extension": ".py",
   "mimetype": "text/x-python",
   "name": "python",
   "nbconvert_exporter": "python",
   "pygments_lexer": "ipython3",
   "version": "3.11.5"
  }
 },
 "nbformat": 4,
 "nbformat_minor": 2
}
