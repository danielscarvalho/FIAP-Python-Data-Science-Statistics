{
 "cells": [
  {
   "cell_type": "markdown",
   "metadata": {},
   "source": [
    "# FIAP\n",
    "## Engenharia de Software\n",
    "### Data Science and Statistical Computing"
   ]
  },
  {
   "cell_type": "markdown",
   "metadata": {},
   "source": [
    "SQLite LAB - ETL - Extraction Transformation and Load\n",
    "\n",
    "Install:\n",
    "\n",
    "pip3 install sqlite3\n",
    "\n",
    "or\n",
    "\n",
    "conda install sqlite3"
   ]
  },
  {
   "cell_type": "code",
   "execution_count": 88,
   "metadata": {},
   "outputs": [
    {
     "name": "stdout",
     "output_type": "stream",
     "text": [
      "--2024-09-26 00:37:39--  https://github.com/danielscarvalho/data/blob/master/Clients.csv?raw=true\n",
      "Resolving github.com (github.com)... 20.201.28.151\n",
      "Connecting to github.com (github.com)|20.201.28.151|:443... connected.\n",
      "HTTP request sent, awaiting response... 302 Found\n",
      "Location: https://github.com/danielscarvalho/data/raw/refs/heads/master/Clients.csv [following]\n",
      "--2024-09-26 00:37:40--  https://github.com/danielscarvalho/data/raw/refs/heads/master/Clients.csv\n",
      "Reusing existing connection to github.com:443.\n",
      "HTTP request sent, awaiting response... 302 Found\n",
      "Location: https://raw.githubusercontent.com/danielscarvalho/data/refs/heads/master/Clients.csv [following]\n",
      "--2024-09-26 00:37:40--  https://raw.githubusercontent.com/danielscarvalho/data/refs/heads/master/Clients.csv\n",
      "Resolving raw.githubusercontent.com (raw.githubusercontent.com)... 2606:50c0:8002::154, 2606:50c0:8000::154, 2606:50c0:8003::154, ...\n",
      "Connecting to raw.githubusercontent.com (raw.githubusercontent.com)|2606:50c0:8002::154|:443... connected.\n",
      "HTTP request sent, awaiting response... 200 OK\n",
      "Length: 74239 (72K) [text/plain]\n",
      "Saving to: ‘Clients.csv’\n",
      "\n",
      "Clients.csv         100%[===================>]  72.50K  --.-KB/s    in 0.04s   \n",
      "\n",
      "2024-09-26 00:37:40 (1.59 MB/s) - ‘Clients.csv’ saved [74239/74239]\n",
      "\n"
     ]
    }
   ],
   "source": [
    "!wget https://github.com/danielscarvalho/data/blob/master/Clients.csv?raw=true -O Clients.csv"
   ]
  },
  {
   "cell_type": "code",
   "execution_count": 89,
   "metadata": {},
   "outputs": [
    {
     "name": "stdout",
     "output_type": "stream",
     "text": [
      "-rw-rw-r-- 1 fito fito  74239 Sep 25 23:47 Client.csv\n",
      "-rw-rw-r-- 1 fito fito  74239 Sep 26 00:37 Clients.csv\n",
      "-rw-rw-r-- 1 fito fito 684250 Apr 29 02:21 bitcoins_trades.csv\n"
     ]
    }
   ],
   "source": [
    "ls -l *.csv"
   ]
  },
  {
   "cell_type": "code",
   "execution_count": 90,
   "metadata": {},
   "outputs": [
    {
     "name": "stdout",
     "output_type": "stream",
     "text": [
      "Seq,Value,Cost,Type,Category,Reference,Sub,Dec,Ticket\n",
      "1,0.993190858335105,704.151859720177,A,Gold,399.122282809757,-70,Gamma,1432\n",
      "2,0.555051310059166,776.584086430537,B,Silver,828.930698378043,74,Gamma,1433\n",
      "3,0.0890770883227318,909.221706181418,B,Silver,987.120310195753,-55,Gamma,1434\n",
      "4,0.109345778842911,57.2442840655498,B,Silver,980.133134243492,87,Gamma,1435\n",
      "5,0.290697424748017,898.92160632871,B,Silver,190.085343055745,-39,Gamma,1436\n",
      "6,0.591107732196357,126.598489368848,B,Silver,651.264660866354,83,Gamma,1437\n",
      "7,0.985322702594319,588.142563005177,C,Silver,252.743863713731,-43,Gamma,1438\n",
      "8,0.331527780422579,832.966968426264,C,Silver,142.750118211529,50,Gamma,1439\n",
      "9,0.311497095693109,193.32694327513,C,Silver,480.384255226109,-62,Gamma,1440\n"
     ]
    }
   ],
   "source": [
    "!head Clients.csv"
   ]
  },
  {
   "cell_type": "code",
   "execution_count": 91,
   "metadata": {},
   "outputs": [],
   "source": [
    "CT_CLIENTS_SQL = \"\"\"\n",
    "create table clients (\n",
    "seq integer not null primary key,\n",
    "value float,\n",
    "cost float,\n",
    "type text,\n",
    "category text,\n",
    "reference integer,\n",
    "sub integer,\n",
    "dec text,\n",
    "ticket interger\n",
    ")\n",
    "\"\"\""
   ]
  },
  {
   "cell_type": "code",
   "execution_count": 109,
   "metadata": {},
   "outputs": [],
   "source": [
    "import sqlite3\n",
    "\n",
    "con = sqlite3.connect(\"fiap.db\")"
   ]
  },
  {
   "cell_type": "code",
   "execution_count": 110,
   "metadata": {},
   "outputs": [],
   "source": [
    "cursor = con.cursor()"
   ]
  },
  {
   "cell_type": "code",
   "execution_count": 111,
   "metadata": {},
   "outputs": [],
   "source": [
    "result_set = cursor.execute(\"select date(), sqlite_version()\")"
   ]
  },
  {
   "cell_type": "code",
   "execution_count": 112,
   "metadata": {},
   "outputs": [
    {
     "name": "stdout",
     "output_type": "stream",
     "text": [
      "('2024-09-26', '3.41.2')\n"
     ]
    }
   ],
   "source": [
    "for record in result_set:\n",
    "    print(record)"
   ]
  },
  {
   "cell_type": "code",
   "execution_count": 96,
   "metadata": {},
   "outputs": [
    {
     "ename": "OperationalError",
     "evalue": "table clients already exists",
     "output_type": "error",
     "traceback": [
      "\u001b[0;31m---------------------------------------------------------------------------\u001b[0m",
      "\u001b[0;31mOperationalError\u001b[0m                          Traceback (most recent call last)",
      "Cell \u001b[0;32mIn[96], line 1\u001b[0m\n\u001b[0;32m----> 1\u001b[0m result_set \u001b[38;5;241m=\u001b[39m cursor\u001b[38;5;241m.\u001b[39mexecute(CT_CLIENTS_SQL)\n",
      "\u001b[0;31mOperationalError\u001b[0m: table clients already exists"
     ]
    }
   ],
   "source": [
    "result_set = cursor.execute(CT_CLIENTS_SQL)"
   ]
  },
  {
   "cell_type": "code",
   "execution_count": 37,
   "metadata": {},
   "outputs": [],
   "source": [
    "for record in result_set:\n",
    "    print(record)"
   ]
  },
  {
   "cell_type": "code",
   "execution_count": 113,
   "metadata": {},
   "outputs": [
    {
     "name": "stdout",
     "output_type": "stream",
     "text": [
      "Seq,Value,Cost,Type,Category,Reference,Sub,Dec,Ticket\n",
      "\n"
     ]
    }
   ],
   "source": [
    "file = open(\"Clients.csv\",\"r\")\n",
    "\n",
    "clients_head = file.readline()\n",
    "\n",
    "print(clients_head)"
   ]
  },
  {
   "cell_type": "markdown",
   "metadata": {},
   "source": [
    "Data sample, first and second lines of the clients.csv:\n",
    "```csv\n",
    "Seq,Value,Cost,Type,Category,Reference,Sub,Dec,Ticket\n",
    "1,0.993190858335105,704.151859720177,A,Gold,399.122282809757,-70,Gamma,1432\n",
    "```"
   ]
  },
  {
   "cell_type": "code",
   "execution_count": 115,
   "metadata": {},
   "outputs": [
    {
     "name": "stdout",
     "output_type": "stream",
     "text": [
      "Ops! -  database is locked  -  insert into clients values(5,0.290697424748017,898.92160632871,'B','Silver',190.085343055745,-39,'Gamma',1436)\n"
     ]
    },
    {
     "ename": "KeyboardInterrupt",
     "evalue": "",
     "output_type": "error",
     "traceback": [
      "\u001b[0;31m---------------------------------------------------------------------------\u001b[0m",
      "\u001b[0;31mOperationalError\u001b[0m                          Traceback (most recent call last)",
      "Cell \u001b[0;32mIn[115], line 21\u001b[0m\n\u001b[1;32m     19\u001b[0m     \u001b[38;5;66;03m#print(INSERT_SQL)        \u001b[39;00m\n\u001b[0;32m---> 21\u001b[0m     cursor\u001b[38;5;241m.\u001b[39mexecute(INSERT_SQL)\n\u001b[1;32m     23\u001b[0m \u001b[38;5;28;01mexcept\u001b[39;00m \u001b[38;5;167;01mException\u001b[39;00m \u001b[38;5;28;01mas\u001b[39;00m err:\n",
      "\u001b[0;31mOperationalError\u001b[0m: database is locked",
      "\nDuring handling of the above exception, another exception occurred:\n",
      "\u001b[0;31mKeyboardInterrupt\u001b[0m                         Traceback (most recent call last)",
      "Cell \u001b[0;32mIn[115], line 24\u001b[0m\n\u001b[1;32m     21\u001b[0m     cursor\u001b[38;5;241m.\u001b[39mexecute(INSERT_SQL)\n\u001b[1;32m     23\u001b[0m \u001b[38;5;28;01mexcept\u001b[39;00m \u001b[38;5;167;01mException\u001b[39;00m \u001b[38;5;28;01mas\u001b[39;00m err:\n\u001b[0;32m---> 24\u001b[0m     \u001b[38;5;28mprint\u001b[39m(\u001b[38;5;124m\"\u001b[39m\u001b[38;5;124mOps! - \u001b[39m\u001b[38;5;124m\"\u001b[39m, err, \u001b[38;5;124m\"\u001b[39m\u001b[38;5;124m - \u001b[39m\u001b[38;5;124m\"\u001b[39m, INSERT_SQL)\n",
      "\u001b[0;31mKeyboardInterrupt\u001b[0m: "
     ]
    }
   ],
   "source": [
    "for line in file:\n",
    "    \n",
    "    try:\n",
    "\n",
    "        columns = line.split(\",\")\n",
    "\n",
    "        seq = int(columns[0])\n",
    "        value = float(columns[1])\n",
    "        cost = float(columns[2])\n",
    "        type = columns[3]\n",
    "        category = columns[4]\n",
    "        reference = float(columns[5])\n",
    "        sub = int(columns[6])\n",
    "        dec = columns[7]\n",
    "        ticket = int(columns[8])\n",
    "\n",
    "        INSERT_SQL = f\"insert into clients values({seq},{value},{cost},'{type}','{category}',{reference},{sub},'{dec}',{ticket})\"\n",
    "        \n",
    "        #print(INSERT_SQL)        \n",
    "    \n",
    "        cursor.execute(INSERT_SQL)\n",
    "\n",
    "    except Exception as err:\n",
    "        print(\"Ops! - \", err, \" - \", INSERT_SQL)"
   ]
  },
  {
   "cell_type": "code",
   "execution_count": 104,
   "metadata": {},
   "outputs": [
    {
     "name": "stdout",
     "output_type": "stream",
     "text": [
      "(0,)\n"
     ]
    }
   ],
   "source": [
    "result_set = cursor.execute(\"select count(1) qtd from clients\")\n",
    "\n",
    "for record in result_set:\n",
    "    print(record)"
   ]
  },
  {
   "cell_type": "code",
   "execution_count": 87,
   "metadata": {},
   "outputs": [
    {
     "name": "stdout",
     "output_type": "stream",
     "text": [
      "(1000, 0.0432759565581071, 920.506722271134, 'B', 'Prata', 687.753336916526, 49, 'Alpha', 1600)\n"
     ]
    }
   ],
   "source": [
    "result_set = cursor.execute(\"select * from clients where seq == (select max(seq) from clients)\")\n",
    "\n",
    "for record in result_set:\n",
    "    print(record)"
   ]
  },
  {
   "cell_type": "code",
   "execution_count": 108,
   "metadata": {},
   "outputs": [
    {
     "ename": "ProgrammingError",
     "evalue": "Cannot operate on a closed database.",
     "output_type": "error",
     "traceback": [
      "\u001b[0;31m---------------------------------------------------------------------------\u001b[0m",
      "\u001b[0;31mProgrammingError\u001b[0m                          Traceback (most recent call last)",
      "Cell \u001b[0;32mIn[108], line 1\u001b[0m\n\u001b[0;32m----> 1\u001b[0m result_set \u001b[38;5;241m=\u001b[39m cursor\u001b[38;5;241m.\u001b[39mexecute(\u001b[38;5;124m\"\u001b[39m\u001b[38;5;124mselect sub, count(1) qtd, sum(reference) from clients group by sub\u001b[39m\u001b[38;5;124m\"\u001b[39m)\n\u001b[1;32m      3\u001b[0m \u001b[38;5;28;01mfor\u001b[39;00m record \u001b[38;5;129;01min\u001b[39;00m result_set:\n\u001b[1;32m      4\u001b[0m     \u001b[38;5;28mprint\u001b[39m(record)\n",
      "\u001b[0;31mProgrammingError\u001b[0m: Cannot operate on a closed database."
     ]
    }
   ],
   "source": [
    "result_set = cursor.execute(\"select sub, count(1) qtd, sum(reference) from clients group by sub\")\n",
    "\n",
    "for record in result_set:\n",
    "    print(record)"
   ]
  },
  {
   "cell_type": "code",
   "execution_count": 107,
   "metadata": {},
   "outputs": [],
   "source": [
    "file.close()\n",
    "con.close()"
   ]
  },
  {
   "cell_type": "code",
   "execution_count": 81,
   "metadata": {},
   "outputs": [
    {
     "name": "stdout",
     "output_type": "stream",
     "text": [
      "<sqlite3.Cursor object at 0x71d06400e840>\n"
     ]
    }
   ],
   "source": [
    "# cursor.execute(\"delete from clients\")\n",
    "print(_)"
   ]
  },
  {
   "cell_type": "markdown",
   "metadata": {},
   "source": []
  }
 ],
 "metadata": {
  "kernelspec": {
   "display_name": "base",
   "language": "python",
   "name": "python3"
  },
  "language_info": {
   "codemirror_mode": {
    "name": "ipython",
    "version": 3
   },
   "file_extension": ".py",
   "mimetype": "text/x-python",
   "name": "python",
   "nbconvert_exporter": "python",
   "pygments_lexer": "ipython3",
   "version": "3.11.5"
  }
 },
 "nbformat": 4,
 "nbformat_minor": 2
}
